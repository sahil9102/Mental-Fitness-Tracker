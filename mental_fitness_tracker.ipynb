{
 "cells": [
  {
   "cell_type": "code",
   "execution_count": 1,
   "id": "dabd2964",
   "metadata": {},
   "outputs": [],
   "source": [
    "import pickle\n",
    "import pandas as pd\n",
    "from sklearn.preprocessing import LabelEncoder\n",
    "from sklearn.ensemble import RandomForestRegressor"
   ]
  },
  {
   "cell_type": "code",
   "execution_count": 2,
   "id": "5047f591",
   "metadata": {},
   "outputs": [],
   "source": [
    "# Since the r2 score of Random Forest Regression model is 0.99 whereas linear Regression Model's r2 score is 0.74. \n",
    "# So, we would be using random Forest Regresssion Model\n",
    "rf = pickle.load(open(\"random_forest_regression_model.pkl\",\"rb\"))"
   ]
  },
  {
   "cell_type": "code",
   "execution_count": 3,
   "id": "3a807432",
   "metadata": {},
   "outputs": [
    {
     "name": "stdout",
     "output_type": "stream",
     "text": [
      "Enter your country : bahamas\n",
      "Enter the year : 2007\n",
      "Enter your schizophrenia percentage : 0.3\n",
      "Enter your bipolar disorder percentage : 0.94\n",
      "Enter your eating disorder percentage : 0.31\n",
      "Enter your anxiety percentage : 4.45\n",
      "Enter your drug usage percentage : 1.01\n",
      "Enter your depression percentage : 3.11\n",
      "Enter your alcohol uasge percentage : 1.99\n",
      "\n",
      "Your life expectency of full health is decreased by 5.79 years\n"
     ]
    }
   ],
   "source": [
    "l = LabelEncoder()\n",
    "\n",
    "country = l.fit_transform([input(\"Enter your country : \")])\n",
    "year = int(input(\"Enter the year : \"))\n",
    "schizophrenia = float(input(\"Enter your schizophrenia percentage : \"))\n",
    "bipolar_disorder = float(input(\"Enter your bipolar disorder percentage : \"))\n",
    "eating_disorder = float(input(\"Enter your eating disorder percentage : \"))\n",
    "anxiety_disorder = float(input(\"Enter your anxiety percentage : \"))\n",
    "drug_use_disorder = float(input(\"Enter your drug usage percentage : \"))\n",
    "depression_disorder = float(input(\"Enter your depression percentage : \"))\n",
    "alcohol_use_disorder = float(input(\"Enter your alcohol uasge percentage : \"))\n",
    "\n",
    "userdata = pd.DataFrame([[country, year, schizophrenia, bipolar_disorder, eating_disorder, anxiety_disorder, drug_use_disorder, depression_disorder, alcohol_use_disorder]])\n",
    "userdata.columns = ['Country','Year','Schizophrenia', 'Bipolar_disorder', 'Eating_disorder','Anxiety','Drug_usage','Depression','Alcohol']\n",
    "\n",
    "prediction = rf.predict(userdata)\n",
    "\n",
    "print()\n",
    "print(f\"Your life expectency of full health is decreased by {round(prediction[0],2)} years\")"
   ]
  },
  {
   "cell_type": "code",
   "execution_count": null,
   "id": "8a86d1c1",
   "metadata": {},
   "outputs": [],
   "source": []
  }
 ],
 "metadata": {
  "kernelspec": {
   "display_name": "Python 3 (ipykernel)",
   "language": "python",
   "name": "python3"
  },
  "language_info": {
   "codemirror_mode": {
    "name": "ipython",
    "version": 3
   },
   "file_extension": ".py",
   "mimetype": "text/x-python",
   "name": "python",
   "nbconvert_exporter": "python",
   "pygments_lexer": "ipython3",
   "version": "3.10.9"
  }
 },
 "nbformat": 4,
 "nbformat_minor": 5
}
